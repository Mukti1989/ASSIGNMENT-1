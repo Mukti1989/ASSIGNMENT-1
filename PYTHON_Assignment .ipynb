{
 "cells": [
  {
   "cell_type": "markdown",
   "id": "c7049c74",
   "metadata": {},
   "source": [
    "# Q-11. Write a python program to find the factorial of a number."
   ]
  },
  {
   "cell_type": "code",
   "execution_count": 1,
   "id": "094b48ce",
   "metadata": {},
   "outputs": [
    {
     "name": "stdout",
     "output_type": "stream",
     "text": [
      "The factorial of 5 is 120\n"
     ]
    }
   ],
   "source": [
    "# ANSWER\n",
    "Num = 5\n",
    "Factorial = 1\n",
    "if Num < 0:\n",
    "    print(\"Factorial does not exist for negative numbers\")\n",
    "elif Num == 0:\n",
    "    print(\"The factorial of 0 is 1\")\n",
    "else:\n",
    "    for i in range(1, Num + 1):\n",
    "        Factorial = Factorial * i\n",
    "    print(\"The factorial of\",Num,\"is\",Factorial)"
   ]
  },
  {
   "cell_type": "markdown",
   "id": "58e19e58",
   "metadata": {},
   "source": [
    "# Q-12. Write a python program to find whether a number is prime or composite."
   ]
  },
  {
   "cell_type": "code",
   "execution_count": 19,
   "id": "3d27b454",
   "metadata": {},
   "outputs": [
    {
     "name": "stdout",
     "output_type": "stream",
     "text": [
      "Enter any Number : 4\n",
      "4 is Composite Number\n",
      "Enter any Number : 5\n",
      "5 is Prime Number\n"
     ]
    }
   ],
   "source": [
    "# Its for Composite\n",
    "X=int(input(\"Enter any Number : \"))\n",
    "count=0\n",
    "for a in range(2,number):\n",
    "    if X%a==0:\n",
    "        count+=1\n",
    "if count>=1:\n",
    "    print(X, \"is Composite Number\")\n",
    "else:\n",
    "    print(X, \"is Prime Number\")\n",
    "\n",
    "# Its for Prime number\n",
    "    \n",
    "X=int(input(\"Enter any Number : \"))\n",
    "count=0\n",
    "for a in range(2,number):\n",
    "    if X%a==0:\n",
    "        count+=1\n",
    "if count>=1:\n",
    "    print(X, \"is Composite Number\")\n",
    "else:\n",
    "    print(X, \"is Prime Number\")"
   ]
  },
  {
   "cell_type": "markdown",
   "id": "af7cbcb1",
   "metadata": {},
   "source": [
    "# Q-13.Write a python program to check whether a given string is palindrome or not."
   ]
  },
  {
   "cell_type": "code",
   "execution_count": 3,
   "id": "2c6a6858",
   "metadata": {},
   "outputs": [
    {
     "name": "stdout",
     "output_type": "stream",
     "text": [
      "No\n"
     ]
    }
   ],
   "source": [
    "# String is palindrome or not\n",
    "def isPalindrome(s):\n",
    "    return s == s[::-1]\n",
    " \n",
    "s = \"string\"\n",
    "ans = isPalindrome(s)\n",
    " \n",
    "if ans:\n",
    "    print(\"Yes\")\n",
    "else:\n",
    "    print(\"No\")\n",
    "   "
   ]
  },
  {
   "cell_type": "markdown",
   "id": "36cc48ee",
   "metadata": {},
   "source": [
    "# Q-14. Write a Python program to get the third side of right-angled triangle from two given sides."
   ]
  },
  {
   "cell_type": "code",
   "execution_count": 10,
   "id": "8e5e4d5e",
   "metadata": {},
   "outputs": [
    {
     "name": "stdout",
     "output_type": "stream",
     "text": [
      "Enter base: 10\n",
      "Enter height: 6.2\n",
      "Enter angle: 65\n",
      "Hypotenuse = 11.766052864066182\n"
     ]
    }
   ],
   "source": [
    "import math\n",
    "a = float(input(\"Enter base: \"))\n",
    "b = float(input(\"Enter height: \"))\n",
    "x = float(input(\"Enter angle: \"))\n",
    "c = math.sqrt(a ** 2 + b ** 2)\n",
    "print(\"Hypotenuse =\", c)"
   ]
  },
  {
   "cell_type": "markdown",
   "id": "0793245a",
   "metadata": {},
   "source": [
    "# Q-15.Write a python program to print the frequency of each of the characters present in a given string."
   ]
  },
  {
   "cell_type": "code",
   "execution_count": 18,
   "id": "c348f312",
   "metadata": {},
   "outputs": [
    {
     "name": "stdout",
     "output_type": "stream",
     "text": [
      "Given String:  Delhi\n",
      "Frequency of each character :\n",
      "  {'D': 1, 'e': 1, 'l': 1, 'h': 1, 'i': 1}\n"
     ]
    }
   ],
   "source": [
    "from collections import Counter\n",
    "\n",
    "# string\n",
    "X = \"Delhi\"\n",
    "print(\"Given String: \",X)\n",
    "# Using counter\n",
    "res = {}\n",
    "\n",
    "for keys in X:\n",
    "    res[keys] = res.get(keys, 0) + 1\n",
    "\n",
    "print(\"Frequency of each character :\\n \",res)"
   ]
  }
 ],
 "metadata": {
  "kernelspec": {
   "display_name": "Python 3",
   "language": "python",
   "name": "python3"
  },
  "language_info": {
   "codemirror_mode": {
    "name": "ipython",
    "version": 3
   },
   "file_extension": ".py",
   "mimetype": "text/x-python",
   "name": "python",
   "nbconvert_exporter": "python",
   "pygments_lexer": "ipython3",
   "version": "3.8.8"
  }
 },
 "nbformat": 4,
 "nbformat_minor": 5
}
